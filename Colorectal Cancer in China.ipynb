{
 "cells": [
  {
   "cell_type": "code",
   "execution_count": 1,
   "metadata": {
    "collapsed": true
   },
   "outputs": [],
   "source": [
    "import pandas as pd\n",
    "from pandas import DataFrame"
   ]
  },
  {
   "cell_type": "code",
   "execution_count": 11,
   "metadata": {},
   "outputs": [
    {
     "data": {
      "text/html": [
       "<div>\n",
       "<style>\n",
       "    .dataframe thead tr:only-child th {\n",
       "        text-align: right;\n",
       "    }\n",
       "\n",
       "    .dataframe thead th {\n",
       "        text-align: left;\n",
       "    }\n",
       "\n",
       "    .dataframe tbody tr th {\n",
       "        vertical-align: top;\n",
       "    }\n",
       "</style>\n",
       "<table border=\"1\" class=\"dataframe\">\n",
       "  <thead>\n",
       "    <tr style=\"text-align: right;\">\n",
       "      <th></th>\n",
       "      <th>Male</th>\n",
       "      <th>Female</th>\n",
       "    </tr>\n",
       "  </thead>\n",
       "  <tbody>\n",
       "    <tr>\n",
       "      <th>total number</th>\n",
       "      <td>1</td>\n",
       "      <td>2</td>\n",
       "    </tr>\n",
       "  </tbody>\n",
       "</table>\n",
       "</div>"
      ],
      "text/plain": [
       "              Male  Female\n",
       "total number     1       2"
      ]
     },
     "execution_count": 11,
     "metadata": {},
     "output_type": "execute_result"
    }
   ],
   "source": [
    "df = pd.DataFrame({'Male':1,'Female':2}, index = ['total number'], columns = ['Male','Female'])\n",
    "df.head()"
   ]
  },
  {
   "cell_type": "code",
   "execution_count": 14,
   "metadata": {},
   "outputs": [
    {
     "data": {
      "text/plain": [
       "'The estimate of new cases diagnosed with colorectal cancer of China in 2011 was 310,244 (178,404 for males and 131,840 for females, 195,117 in urban areas and 115,128 in rural areas), accounting for 9.20% of overall new cancer cases. The crude incidence of colorectal cancer ranked fourth in all cancer sites with rate of 23.03/100,000 (25.83/100,000 for males and 20.08/100,000 for female, 28.25/100,000 in urban areas and 17.54/100,000 in rural areas). The age-standardized rates by China population and by World population were 16.79/100,000 and 16.52/100,000, respectively. The estimated number of colorectal cancer deaths of China in 2011 was 149,722 (86,427 for males and 63,295 for females, 91,682 in urban areas and 58,040 in rural areas), accounting for 7.09% of overall cancer deaths. The crude mortality rate for colorectal cancer ranked fifth leading cause of cancer-related death in all cancer sites with rate of 11.11/100,000 (12.51/100,000 for males and 9.64/100,000 for female, 13.27/100,000 in urban areas and 8.84/100,000 in rural areas). The age-standardized rates by China population and by World population for mortality were 7.77/100,000 and 7.66/100,000, respectively. For both of incidence and mortality, the rates of colorectal cancer were much higher in males than in females, and in rural areas than in urban areas. The rate of colorectal cancer increased greatly with age, especially after 40 or 45 years old.'"
      ]
     },
     "execution_count": 14,
     "metadata": {},
     "output_type": "execute_result"
    }
   ],
   "source": [
    "info = 'The estimate of new cases diagnosed with colorectal cancer of China in 2011 was 310,244 (178,404 for males and 131,840 for females, 195,117 in urban areas and 115,128 in rural areas), accounting for 9.20% of overall new cancer cases. The crude incidence of colorectal cancer ranked fourth in all cancer sites with rate of 23.03/100,000 (25.83/100,000 for males and 20.08/100,000 for female, 28.25/100,000 in urban areas and 17.54/100,000 in rural areas). The age-standardized rates by China population and by World population were 16.79/100,000 and 16.52/100,000, respectively. The estimated number of colorectal cancer deaths of China in 2011 was 149,722 (86,427 for males and 63,295 for females, 91,682 in urban areas and 58,040 in rural areas), accounting for 7.09% of overall cancer deaths. The crude mortality rate for colorectal cancer ranked fifth leading cause of cancer-related death in all cancer sites with rate of 11.11/100,000 (12.51/100,000 for males and 9.64/100,000 for female, 13.27/100,000 in urban areas and 8.84/100,000 in rural areas). The age-standardized rates by China population and by World population for mortality were 7.77/100,000 and 7.66/100,000, respectively. For both of incidence and mortality, the rates of colorectal cancer were much higher in males than in females, and in rural areas than in urban areas. The rate of colorectal cancer increased greatly with age, especially after 40 or 45 years old.'\n",
    "info"
   ]
  },
  {
   "cell_type": "code",
   "execution_count": 13,
   "metadata": {},
   "outputs": [
    {
     "data": {
      "text/plain": [
       "'The estimate of new cases diagnosed with colorectal cancer of China in 2011 was 310,244 (178,404 for males and 131,840 for females, 195,117 in urban areas and 115,128 in rural areas), accounting for 9.20% of overall new cancer cases. The crude incidence of colorectal cancer ranked fourth in all cancer sites with rate of 23.03/100,000 (25.83/100,000 for males and 20.08/100,000 for female, 28.25/100,000 in urban areas and 17.54/100,000 in rural areas). The age-standardized rates by China population and by World population were 16.79/100,000 and 16.52/100,000, respectively. The estimated number of colorectal cancer deaths of China in 2011 was 149,722 (86,427 for males and 63,295 for females, 91,682 in urban areas and 58,040 in rural areas), accounting for 7.09% of overall cancer deaths. The crude mortality rate for colorectal cancer ranked fifth leading cause of cancer-related death in all cancer sites with rate of 11.11/100,000 (12.51/100,000 for males and 9.64/100,000 for female, 13.27/100,000 in urban areas and 8.84/100,000 in rural areas). The age-standardized rates by China population and by World population for mortality were 7.77/100,000 and 7.66/100,000, respectively. For both of incidence and mortality, the rates of colorectal cancer were much higher in males than in females, and in rural areas than in urban areas. The rate of colorectal cancer increased greatly with age, especially after 40 or 45 years old.'"
      ]
     },
     "execution_count": 13,
     "metadata": {},
     "output_type": "execute_result"
    }
   ],
   "source": []
  },
  {
   "cell_type": "code",
   "execution_count": null,
   "metadata": {
    "collapsed": true
   },
   "outputs": [],
   "source": []
  }
 ],
 "metadata": {
  "kernelspec": {
   "display_name": "Python 3",
   "language": "python",
   "name": "python3"
  },
  "language_info": {
   "codemirror_mode": {
    "name": "ipython",
    "version": 3
   },
   "file_extension": ".py",
   "mimetype": "text/x-python",
   "name": "python",
   "nbconvert_exporter": "python",
   "pygments_lexer": "ipython3",
   "version": "3.6.1"
  }
 },
 "nbformat": 4,
 "nbformat_minor": 2
}
